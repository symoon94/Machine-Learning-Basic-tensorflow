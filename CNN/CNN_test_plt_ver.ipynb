{
 "cells": [
  {
   "cell_type": "markdown",
   "metadata": {},
   "source": [
    "< Convolutional Neural Network - Restore >\n",
    "=================================================\n",
    "Loading an image with matplotlib.image\n",
    "----------------------"
   ]
  },
  {
   "cell_type": "code",
   "execution_count": 1,
   "metadata": {},
   "outputs": [
    {
     "name": "stdout",
     "output_type": "stream",
     "text": [
      "Extracting /tmp/data/train-images-idx3-ubyte.gz\n",
      "Extracting /tmp/data/train-labels-idx1-ubyte.gz\n",
      "Extracting /tmp/data/t10k-images-idx3-ubyte.gz\n",
      "Extracting /tmp/data/t10k-labels-idx1-ubyte.gz\n"
     ]
    }
   ],
   "source": [
    "import tensorflow as tf\n",
    "from tensorflow.examples.tutorials.mnist import input_data\n",
    "mnist = input_data.read_data_sets(\"/tmp/data/\", one_hot = True)\n",
    "import os\n",
    "\n",
    "import matplotlib.pylab as plt\n",
    "import matplotlib.image as mpimg\n",
    "import numpy as np"
   ]
  },
  {
   "cell_type": "code",
   "execution_count": 2,
   "metadata": {
    "collapsed": true
   },
   "outputs": [],
   "source": [
    "n_classes = 10\n",
    "batch_size = 128\n",
    "\n",
    "x = tf.placeholder('float', [None, 784], name = 'x_')\n",
    "y = tf.placeholder('float', name = 'y_')\n",
    "\n",
    "keep_rate = 0.8\n",
    "keep_prob = tf.placeholder(tf.float32, name = 'prob')"
   ]
  },
  {
   "cell_type": "code",
   "execution_count": 3,
   "metadata": {
    "collapsed": true
   },
   "outputs": [],
   "source": [
    "def conv2d(x, W):\n",
    "    return tf.nn.conv2d(x, W, strides=[1,1,1,1], padding='SAME', name='conv2d')"
   ]
  },
  {
   "cell_type": "code",
   "execution_count": 4,
   "metadata": {
    "collapsed": true
   },
   "outputs": [],
   "source": [
    "def maxpool2d(x):\n",
    "    #                        size of window         movement of window\n",
    "    return tf.nn.max_pool(x, ksize=[1,2,2,1], strides=[1,2,2,1], padding='SAME' , name = 'maxpool2d')"
   ]
  },
  {
   "cell_type": "code",
   "execution_count": 5,
   "metadata": {},
   "outputs": [
    {
     "data": {
      "image/png": "[encoded data removed]",
      "text/plain": [
       "<matplotlib.figure.Figure at 0x130a53a20>"
      ]
     },
     "metadata": {},
     "output_type": "display_data"
    },
    {
     "data": {
      "image/png": "[encoded data removed]",
      "text/plain": [
       "<matplotlib.figure.Figure at 0x130cf8ba8>"
      ]
     },
     "metadata": {},
     "output_type": "display_data"
    }
   ],
   "source": [
    "# load an image(28 x 28)\n",
    "img1 = mpimg.imread( \"/Users/moonsooyoung/Downloads/5-2.png\")\n",
    "plt.imshow(img1, cmap='Greys', interpolation='nearest')\n",
    "plt.show()\n",
    "\n",
    "image1=np.array(img1,np.float32)\n",
    "image1[image1[:,:]<1]=0\n",
    "\n",
    "data1=image1[:,:,2]\n",
    "data1[data1[:,:]==0]=255\n",
    "data1[data1[:,:]==1]=0\n",
    "\n",
    "plt.imshow(data1)\n",
    "plt.show()\n",
    "\n",
    "data=data1.reshape(-1,784)\n",
    "data= data/255\n",
    "\n",
    "x=tf.cast(data, 'float')"
   ]
  },
  {
   "cell_type": "code",
   "execution_count": 6,
   "metadata": {
    "collapsed": true
   },
   "outputs": [],
   "source": [
    "weights = {'W_conv1':tf.Variable(tf.random_normal([5,5,1,32]), name = 'w_c1'),\n",
    "               'W_conv2':tf.Variable(tf.random_normal([5,5,32,64]), name = 'w_c2'),\n",
    "               'W_fc':tf.Variable(tf.random_normal([7*7*64,1024]), name = 'w_f'),\n",
    "               'out':tf.Variable(tf.random_normal([1024, n_classes]), name ='w_out')}\n",
    "\n",
    "biases = {'b_conv1':tf.Variable(tf.random_normal([32]), name = 'b_c1'),\n",
    "               'b_conv2':tf.Variable(tf.random_normal([64]), name = 'b_c2'),\n",
    "               'b_fc':tf.Variable(tf.random_normal([1024]), name = 'b_f'),\n",
    "               'out':tf.Variable(tf.random_normal([n_classes]), name = 'b_out')}"
   ]
  },
  {
   "cell_type": "code",
   "execution_count": 7,
   "metadata": {},
   "outputs": [
    {
     "name": "stdout",
     "output_type": "stream",
     "text": [
      "INFO:tensorflow:Restoring parameters from pyhelp/sy2\n"
     ]
    }
   ],
   "source": [
    "save_path = 'pyhelp/'\n",
    "model_name = 'sy2'\n",
    "if not os.path.exists(save_path):\n",
    "    os.makedirs(save_path)\n",
    "\n",
    "save_path_full = os.path.join(save_path, model_name)\n",
    "\n",
    "sess= tf.Session()\n",
    "saver = tf.train.Saver()\n",
    "saver = tf.train.import_meta_graph('/Users/moonsooyoung/Desktop/pyhelp/sy2.meta')\n",
    "saver.restore(sess,save_path_full)"
   ]
  },
  {
   "cell_type": "code",
   "execution_count": 8,
   "metadata": {
    "collapsed": true
   },
   "outputs": [],
   "source": [
    "x = tf.reshape(x, shape=[-1, 28, 28, 1])\n",
    "conv1 = tf.nn.relu(conv2d(x, weights['W_conv1']) + biases['b_conv1'] , name = 'c1_')\n",
    "conv1 = maxpool2d(conv1)\n",
    "    \n",
    "conv2 = tf.nn.relu(conv2d(conv1, weights['W_conv2']) + biases['b_conv2'], name = 'c2_')\n",
    "conv2 = maxpool2d(conv2)\n",
    "\n",
    "fc = tf.reshape(conv2,[-1, 7*7*64])\n",
    "fc = tf.nn.relu(tf.matmul(fc, weights['W_fc'])+biases['b_fc'], name = 'fc_')\n",
    "fc = tf.nn.dropout(fc, keep_rate, name = 'fc')\n",
    "\n",
    "output = tf.matmul(fc, weights['out'])+biases['out']"
   ]
  },
  {
   "cell_type": "code",
   "execution_count": 9,
   "metadata": {},
   "outputs": [
    {
     "name": "stdout",
     "output_type": "stream",
     "text": [
      "[[-16616.4921875    5756.91943359   4426.3203125   10798.69140625\n",
      "   -9118.48632812  31965.54296875 -12503.71875    -29028.97851562\n",
      "   20575.37695312  10979.08398438]]\n",
      "=========================================\n",
      "[5]\n"
     ]
    }
   ],
   "source": [
    "print(sess.run(output))\n",
    "print('=========================================')\n",
    "print(sess.run(tf.argmax(output,1)))"
   ]
  }
 ],
 "metadata": {
  "kernelspec": {
   "display_name": "Python 3",
   "language": "python",
   "name": "python3"
  },
  "language_info": {
   "codemirror_mode": {
    "name": "ipython",
    "version": 3
   },
   "file_extension": ".py",
   "mimetype": "text/x-python",
   "name": "python",
   "nbconvert_exporter": "python",
   "pygments_lexer": "ipython3",
   "version": "3.6.3"
  }
 },
 "nbformat": 4,
 "nbformat_minor": 2
}
