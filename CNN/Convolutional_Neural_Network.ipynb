{
 "cells": [
  {
   "cell_type": "markdown",
   "metadata": {},
   "source": [
    "Convolutional Neural Network \n",
    "================================================="
   ]
  },
  {
   "cell_type": "code",
   "execution_count": 1,
   "metadata": {},
   "outputs": [
    {
     "name": "stderr",
     "output_type": "stream",
     "text": [
      "/anaconda/lib/python3.6/importlib/_bootstrap.py:219: RuntimeWarning: compiletime version 3.5 of module 'tensorflow.python.framework.fast_tensor_util' does not match runtime version 3.6\n",
      "  return f(*args, **kwds)\n"
     ]
    },
    {
     "name": "stdout",
     "output_type": "stream",
     "text": [
      "Extracting /tmp/data/train-images-idx3-ubyte.gz\n",
      "Extracting /tmp/data/train-labels-idx1-ubyte.gz\n",
      "Extracting /tmp/data/t10k-images-idx3-ubyte.gz\n",
      "Extracting /tmp/data/t10k-labels-idx1-ubyte.gz\n"
     ]
    }
   ],
   "source": [
    "import tensorflow as tf\n",
    "from tensorflow.examples.tutorials.mnist import input_data\n",
    "mnist = input_data.read_data_sets(\"/tmp/data/\", one_hot = True)\n",
    "import os\n",
    "import cv2"
   ]
  },
  {
   "cell_type": "code",
   "execution_count": 2,
   "metadata": {
    "collapsed": true
   },
   "outputs": [],
   "source": [
    "n_classes = 10\n",
    "batch_size = 128\n",
    "\n",
    "x = tf.placeholder('float', [None, 784], name = 'x_')\n",
    "y = tf.placeholder('float', name = 'y_')\n",
    "\n",
    "keep_rate = 0.8\n",
    "keep_prob = tf.placeholder(tf.float32, name = 'prob')"
   ]
  },
  {
   "cell_type": "code",
   "execution_count": 3,
   "metadata": {
    "collapsed": true
   },
   "outputs": [],
   "source": [
    "def conv2d(x, W):\n",
    "    return tf.nn.conv2d(x, W, strides=[1,1,1,1], padding='SAME', name='conv2d')"
   ]
  },
  {
   "cell_type": "code",
   "execution_count": 4,
   "metadata": {
    "collapsed": true
   },
   "outputs": [],
   "source": [
    "def maxpool2d(x):\n",
    "    #                        size of window         movement of window\n",
    "    return tf.nn.max_pool(x, ksize=[1,2,2,1], strides=[1,2,2,1], padding='SAME' , name = 'maxpool2d')"
   ]
  },
  {
   "cell_type": "code",
   "execution_count": 5,
   "metadata": {
    "collapsed": true
   },
   "outputs": [],
   "source": [
    "weights = {'W_conv1':tf.Variable(tf.random_normal([5,5,1,32]), name = 'w_c1'),\n",
    "               'W_conv2':tf.Variable(tf.random_normal([5,5,32,64]), name = 'w_c2'),\n",
    "               'W_fc':tf.Variable(tf.random_normal([7*7*64,1024]), name = 'w_f'),\n",
    "               'out':tf.Variable(tf.random_normal([1024, n_classes]), name ='w_out')}\n",
    "\n",
    "biases = {'b_conv1':tf.Variable(tf.random_normal([32]), name = 'b_c1'),\n",
    "               'b_conv2':tf.Variable(tf.random_normal([64]), name = 'b_c2'),\n",
    "               'b_fc':tf.Variable(tf.random_normal([1024]), name = 'b_f'),\n",
    "               'out':tf.Variable(tf.random_normal([n_classes]), name = 'b_out')}\n",
    "\n",
    "sess=tf.Session()\n",
    "saver = tf.train.Saver()"
   ]
  },
  {
   "cell_type": "code",
   "execution_count": 6,
   "metadata": {
    "collapsed": true
   },
   "outputs": [],
   "source": [
    "def convolutional_neural_network(x):\n",
    "    x = tf.reshape(x, shape=[-1, 28, 28, 1])\n",
    "    conv1 = tf.nn.relu(conv2d(x, weights['W_conv1']) + biases['b_conv1'] , name = 'c1_')\n",
    "    conv1 = maxpool2d(conv1)\n",
    "    \n",
    "    conv2 = tf.nn.relu(conv2d(conv1, weights['W_conv2']) + biases['b_conv2'], name = 'c2_')\n",
    "    conv2 = maxpool2d(conv2)\n",
    "\n",
    "    fc = tf.reshape(conv2,[-1, 7*7*64])\n",
    "    fc = tf.nn.relu(tf.matmul(fc, weights['W_fc'])+biases['b_fc'], name = 'fc_')\n",
    "    fc = tf.nn.dropout(fc, keep_rate, name = 'fc')\n",
    "\n",
    "    output = tf.matmul(fc, weights['out'])+biases['out']\n",
    "\n",
    "    return output"
   ]
  },
  {
   "cell_type": "code",
   "execution_count": 7,
   "metadata": {
    "collapsed": true
   },
   "outputs": [],
   "source": [
    "save_path = 'pyhelp/'\n",
    "model_name = 'sy2'\n",
    "if not os.path.exists(save_path):\n",
    "    os.makedirs(save_path)\n",
    "\n",
    "save_path_full = os.path.join(save_path, model_name)"
   ]
  },
  {
   "cell_type": "code",
   "execution_count": 8,
   "metadata": {
    "collapsed": true
   },
   "outputs": [],
   "source": [
    "def train_neural_network(x):\n",
    "    prediction = convolutional_neural_network(x)\n",
    "    cost = tf.reduce_mean( tf.nn.softmax_cross_entropy_with_logits(labels=y, logits=prediction) )\n",
    "    optimizer = tf.train.AdamOptimizer().minimize(cost)\n",
    "    \n",
    "    hm_epochs = 30\n",
    "    with tf.Session() as sess:\n",
    "        sess.run(tf.global_variables_initializer())\n",
    "\n",
    "        for epoch in range(hm_epochs):\n",
    "            epoch_loss = 0\n",
    "            for _ in range(int(mnist.train.num_examples/batch_size)):\n",
    "                epoch_x, epoch_y = mnist.train.next_batch(batch_size)\n",
    "                _, c = sess.run([optimizer, cost], feed_dict={x: epoch_x, y: epoch_y})\n",
    "                epoch_loss += c\n",
    "\n",
    "            print('Epoch', epoch, 'completed out of',hm_epochs,'loss:',epoch_loss)\n",
    "\n",
    "        correct = tf.equal(tf.argmax(prediction, 1), tf.argmax(y, 1))\n",
    "\n",
    "        accuracy = tf.reduce_mean(tf.cast(correct, 'float'))\n",
    "        print('Accuracy:',accuracy.eval({x:mnist.test.images, y:mnist.test.labels}))\n",
    "    \n",
    "        saver.save(sess,save_path_full)"
   ]
  },
  {
   "cell_type": "code",
   "execution_count": 9,
   "metadata": {
    "scrolled": true
   },
   "outputs": [
    {
     "name": "stdout",
     "output_type": "stream",
     "text": [
      "Epoch 0 completed out of 30 loss: 2704031.52475\n",
      "Epoch 1 completed out of 30 loss: 391930.455322\n",
      "Epoch 2 completed out of 30 loss: 207773.302643\n",
      "Epoch 3 completed out of 30 loss: 124513.077751\n",
      "Epoch 4 completed out of 30 loss: 92026.1223145\n",
      "Epoch 5 completed out of 30 loss: 63028.8453026\n",
      "Epoch 6 completed out of 30 loss: 49228.2968426\n",
      "Epoch 7 completed out of 30 loss: 37775.9278342\n",
      "Epoch 8 completed out of 30 loss: 30670.2317382\n",
      "Epoch 9 completed out of 30 loss: 24395.3982153\n",
      "Epoch 10 completed out of 30 loss: 19890.3597194\n",
      "Epoch 11 completed out of 30 loss: 15746.3794075\n",
      "Epoch 12 completed out of 30 loss: 12952.2475491\n",
      "Epoch 13 completed out of 30 loss: 13829.1132654\n",
      "Epoch 14 completed out of 30 loss: 11402.4559983\n",
      "Epoch 15 completed out of 30 loss: 9499.10120201\n",
      "Epoch 16 completed out of 30 loss: 7941.19251084\n",
      "Epoch 17 completed out of 30 loss: 8049.1749268\n",
      "Epoch 18 completed out of 30 loss: 6898.42660552\n",
      "Epoch 19 completed out of 30 loss: 7253.50634804\n",
      "Epoch 20 completed out of 30 loss: 6452.37612249\n",
      "Epoch 21 completed out of 30 loss: 5009.12400261\n",
      "Epoch 22 completed out of 30 loss: 5647.21688907\n",
      "Epoch 23 completed out of 30 loss: 3685.26695185\n",
      "Epoch 24 completed out of 30 loss: 5351.76164817\n",
      "Epoch 25 completed out of 30 loss: 3644.17839832\n",
      "Epoch 26 completed out of 30 loss: 3785.83717003\n",
      "Epoch 27 completed out of 30 loss: 4031.11313188\n",
      "Epoch 28 completed out of 30 loss: 3362.80565813\n",
      "Epoch 29 completed out of 30 loss: 3845.43822479\n",
      "Accuracy: 0.9817\n"
     ]
    }
   ],
   "source": [
    "train_neural_network(x)"
   ]
  }
 ],
 "metadata": {
  "kernelspec": {
   "display_name": "Python 3",
   "language": "python",
   "name": "python3"
  },
  "language_info": {
   "codemirror_mode": {
    "name": "ipython",
    "version": 3
   },
   "file_extension": ".py",
   "mimetype": "text/x-python",
   "name": "python",
   "nbconvert_exporter": "python",
   "pygments_lexer": "ipython3",
   "version": "3.6.3"
  }
 },
 "nbformat": 4,
 "nbformat_minor": 2
}
